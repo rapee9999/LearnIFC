{
 "cells": [
  {
   "cell_type": "markdown",
   "metadata": {},
   "source": [
    "# Learn DXF File\n",
    "\n",
    "https://ezdxf.mozman.at/docs/usage_for_beginners.html"
   ]
  },
  {
   "cell_type": "code",
   "execution_count": 28,
   "metadata": {},
   "outputs": [],
   "source": [
    "import ezdxf\n",
    "from ezdxf import document\n",
    "from ezdxf import entities\n",
    "from ezdxf.gfxattribs import GfxAttribs\n",
    "\n",
    "import math\n",
    "\n",
    "from typing import List, Tuple, Dict, Union"
   ]
  },
  {
   "cell_type": "markdown",
   "metadata": {},
   "source": [
    "## Reading File\n",
    "1. Read from file\n",
    "2. Read from zip-like file"
   ]
  },
  {
   "cell_type": "code",
   "execution_count": 3,
   "metadata": {},
   "outputs": [],
   "source": [
    "# 1. Read from file.\n",
    "doc = ezdxf.readfile(\"dxf-data/cube.dxf\")\n",
    "\n",
    "# 2. Read from zip-like file.\n",
    "# doc = ezdxf.readzip(zipfilename[, filename])\n"
   ]
  },
  {
   "cell_type": "markdown",
   "metadata": {},
   "source": [
    "## Creating New DXF File\n",
    "\n",
    "https://ezdxf.mozman.at/docs/tutorials/simple_drawings.html\n",
    "\n",
    "**Arguments:**\n",
    "- `dxfversion` (str): Define DXF version in  argumetn.\n",
    "- `setup` (bool): Create document with standard resources such as line types and text styles. See https://ezdxf.mozman.at/docs/concepts/linetypes.html#linetypes for predefined line types and https://ezdxf.mozman.at/docs/concepts/fonts.html#font-resources for text styles."
   ]
  },
  {
   "cell_type": "code",
   "execution_count": null,
   "metadata": {},
   "outputs": [],
   "source": [
    "# create a new DXF R2018 document\n",
    "dxfversion = \"R2018\"\n",
    "doc = ezdxf.new(dxfversion=dxfversion, setup=True)\n",
    "# add new entities to the modelspace\n",
    "msp = doc.modelspace()\n",
    "# add a LINE entity\n",
    "msp.add_line((0, 0), (10, 0), dxfattribs={\"linetype\": \"DASHED\"}) # give predefined line type.\n",
    "# save the DXF document\n",
    "doc.saveas(\"dxf-data/tutorial.dxf\")\n"
   ]
  },
  {
   "cell_type": "markdown",
   "metadata": {},
   "source": [
    "## Introduction to Entities\n",
    "\n",
    "There are many kinds of entities:\n",
    "- **Space Entities**: modelspace and block.\n",
    "- **Graphical Entities**: line, circle etc.\n"
   ]
  },
  {
   "cell_type": "markdown",
   "metadata": {},
   "source": [
    "## Layouts\n",
    " \n",
    "All graphical DXF entities, such as LINE or CIRCLE, are stored in layouts.\n",
    "\n",
    "**Important Layouts:**\n",
    "- MODEL layout is modelspace which always presents the “world” work space and can not be deleted.\n",
    "- Paperspace layout is plottable sheet which always presents for a DXF document and can be deleted.\n",
    "\n",
    "**Important Entities:**\n",
    "- VIEWPORT entity clips a window into modelspace."
   ]
  },
  {
   "cell_type": "code",
   "execution_count": 4,
   "metadata": {},
   "outputs": [
    {
     "data": {
      "text/plain": [
       "<ezdxf.layouts.layout.Modelspace at 0x107ee6d90>"
      ]
     },
     "execution_count": 4,
     "metadata": {},
     "output_type": "execute_result"
    }
   ],
   "source": [
    "# Get modelspace.\n",
    "msp = doc.modelspace()\n",
    "msp"
   ]
  },
  {
   "cell_type": "code",
   "execution_count": 5,
   "metadata": {},
   "outputs": [
    {
     "data": {
      "text/plain": [
       "<ezdxf.layouts.layout.Paperspace at 0x11d3f1910>"
      ]
     },
     "execution_count": 5,
     "metadata": {},
     "output_type": "execute_result"
    }
   ],
   "source": [
    " # Get paperspace.\n",
    "psp = doc.paperspace('Layout1')\n",
    "psp"
   ]
  },
  {
   "cell_type": "markdown",
   "metadata": {},
   "source": [
    "## Blocks\n",
    "\n",
    "A block is an entity space, which can be inserted into layouts and blocks by INSERT entity (block references)."
   ]
  },
  {
   "cell_type": "code",
   "execution_count": 6,
   "metadata": {},
   "outputs": [
    {
     "data": {
      "text/plain": [
       "<ezdxf.layouts.blocklayout.BlockLayout at 0x11d3e3110>"
      ]
     },
     "execution_count": 6,
     "metadata": {},
     "output_type": "execute_result"
    }
   ],
   "source": [
    "blk = doc.blocks.get(\"*model_space\")\n",
    "blk"
   ]
  },
  {
   "cell_type": "markdown",
   "metadata": {},
   "source": [
    "## Basic Graphical Entities\n",
    "\n",
    "https://ezdxf.mozman.at/docs/tutorials/dxf_primitives.html\n",
    "\n",
    "All graphical entities are located in space entities (e.g. modelspace and block).\n",
    "\n",
    "Basic entities:\n",
    "- Point\n",
    "- Line\n",
    "- Circle\n",
    "- Ellipse\n",
    "- Arc\n",
    "\n",
    "Each entity is placed in:\n",
    "1. 2D space or world co-oridnate system (WCS)\n",
    "1. 3D space or object co-ordinate system (OCS)\n",
    "\n",
    "See https://ezdxf.mozman.at/docs/tutorials/ocs_usage.html#tut-ocs."
   ]
  },
  {
   "cell_type": "code",
   "execution_count": 20,
   "metadata": {},
   "outputs": [],
   "source": [
    "doc = ezdxf.new()\n",
    "doc.layers.new(\"ENTITY\", dxfattribs={'color': 1})\n",
    "msp = doc.modelspace()\n",
    "attribs = GfxAttribs(layer=\"ENTITY\")"
   ]
  },
  {
   "cell_type": "code",
   "execution_count": 29,
   "metadata": {},
   "outputs": [
    {
     "data": {
      "text/plain": [
       "<class 'ezdxf.entities.point.Point'> POINT(#34)"
      ]
     },
     "execution_count": 29,
     "metadata": {},
     "output_type": "execute_result"
    }
   ],
   "source": [
    "point = msp.add_point((10, 10), dxfattribs=attribs)\n",
    "point"
   ]
  },
  {
   "cell_type": "code",
   "execution_count": 30,
   "metadata": {},
   "outputs": [
    {
     "data": {
      "text/plain": [
       "<class 'ezdxf.entities.line.Line'> LINE(#35)"
      ]
     },
     "execution_count": 30,
     "metadata": {},
     "output_type": "execute_result"
    }
   ],
   "source": [
    "line = msp.add_line((0, 0), (10, 10), dxfattribs=attribs)\n",
    "line"
   ]
  },
  {
   "cell_type": "code",
   "execution_count": 31,
   "metadata": {},
   "outputs": [
    {
     "data": {
      "text/plain": [
       "<class 'ezdxf.entities.circle.Circle'> CIRCLE(#36)"
      ]
     },
     "execution_count": 31,
     "metadata": {},
     "output_type": "execute_result"
    }
   ],
   "source": [
    "circle = msp.add_circle((10, 10), radius=3, dxfattribs=attribs)\n",
    "circle"
   ]
  },
  {
   "cell_type": "code",
   "execution_count": 32,
   "metadata": {},
   "outputs": [
    {
     "data": {
      "text/plain": [
       "<class 'ezdxf.entities.arc.Arc'> ARC(#37)"
      ]
     },
     "execution_count": 32,
     "metadata": {},
     "output_type": "execute_result"
    }
   ],
   "source": [
    "arc = msp.add_arc((10, 10), radius=3, start_angle=30, end_angle=120, dxfattribs=attribs)\n",
    "arc"
   ]
  },
  {
   "cell_type": "code",
   "execution_count": 33,
   "metadata": {},
   "outputs": [
    {
     "data": {
      "text/plain": [
       "<class 'ezdxf.entities.ellipse.Ellipse'> ELLIPSE(#38)"
      ]
     },
     "execution_count": 33,
     "metadata": {},
     "output_type": "execute_result"
    }
   ],
   "source": [
    "ellipse = msp.add_ellipse(\n",
    "    (10, 10), major_axis=(5, 0), ratio=0.5, start_param=0, end_param=math.pi, dxfattribs=attribs\n",
    ")\n",
    "ellipse"
   ]
  },
  {
   "cell_type": "markdown",
   "metadata": {},
   "source": [
    "## Access DXF Entities\n",
    "\n",
    "Layouts can be iterated and do support the index operator, for example, `layout[-1]`.\n",
    "\n",
    "**Iteration vs. Index**\n",
    "Iteration filters destroyed entities but index operator returns also destroyed entities until these entities are purged by `layout.purge()`.\n",
    "\n",
    "**Query Methods**\n",
    "- `query()`\n",
    "- `groupby()`\n",
    "\n",
    "This returns an EntityQuery container, which also provides the same query() and groupby() methods.\n",
    "\n"
   ]
  },
  {
   "cell_type": "code",
   "execution_count": 7,
   "metadata": {},
   "outputs": [
    {
     "data": {
      "text/plain": [
       "[<class 'ezdxf.entities.line.Line'> LINE(#1),\n",
       " <class 'ezdxf.entities.line.Line'> LINE(#2),\n",
       " <class 'ezdxf.entities.line.Line'> LINE(#3),\n",
       " <class 'ezdxf.entities.line.Line'> LINE(#4),\n",
       " <class 'ezdxf.entities.line.Line'> LINE(#5),\n",
       " <class 'ezdxf.entities.line.Line'> LINE(#6),\n",
       " <class 'ezdxf.entities.line.Line'> LINE(#7),\n",
       " <class 'ezdxf.entities.line.Line'> LINE(#8),\n",
       " <class 'ezdxf.entities.line.Line'> LINE(#9),\n",
       " <class 'ezdxf.entities.line.Line'> LINE(#A),\n",
       " <class 'ezdxf.entities.line.Line'> LINE(#B),\n",
       " <class 'ezdxf.entities.line.Line'> LINE(#C),\n",
       " <class 'ezdxf.entities.line.Line'> LINE(#D),\n",
       " <class 'ezdxf.entities.line.Line'> LINE(#E),\n",
       " <class 'ezdxf.entities.line.Line'> LINE(#F),\n",
       " <class 'ezdxf.entities.line.Line'> LINE(#10),\n",
       " <class 'ezdxf.entities.line.Line'> LINE(#11),\n",
       " <class 'ezdxf.entities.line.Line'> LINE(#12),\n",
       " <class 'ezdxf.entities.line.Line'> LINE(#13),\n",
       " <class 'ezdxf.entities.line.Line'> LINE(#14),\n",
       " <class 'ezdxf.entities.line.Line'> LINE(#15),\n",
       " <class 'ezdxf.entities.line.Line'> LINE(#16),\n",
       " <class 'ezdxf.entities.line.Line'> LINE(#17),\n",
       " <class 'ezdxf.entities.line.Line'> LINE(#18)]"
      ]
     },
     "execution_count": 7,
     "metadata": {},
     "output_type": "execute_result"
    }
   ],
   "source": [
    "lines: List[entities.DXFEntity] = msp.query(\"LINE\")\n",
    "lines.entities"
   ]
  },
  {
   "cell_type": "code",
   "execution_count": 8,
   "metadata": {},
   "outputs": [
    {
     "data": {
      "text/plain": [
       "{256: [<class 'ezdxf.entities.line.Line'> LINE(#1),\n",
       "  <class 'ezdxf.entities.line.Line'> LINE(#2),\n",
       "  <class 'ezdxf.entities.line.Line'> LINE(#3),\n",
       "  <class 'ezdxf.entities.line.Line'> LINE(#4),\n",
       "  <class 'ezdxf.entities.line.Line'> LINE(#5),\n",
       "  <class 'ezdxf.entities.line.Line'> LINE(#6),\n",
       "  <class 'ezdxf.entities.line.Line'> LINE(#7),\n",
       "  <class 'ezdxf.entities.line.Line'> LINE(#8),\n",
       "  <class 'ezdxf.entities.line.Line'> LINE(#9),\n",
       "  <class 'ezdxf.entities.line.Line'> LINE(#A),\n",
       "  <class 'ezdxf.entities.line.Line'> LINE(#B),\n",
       "  <class 'ezdxf.entities.line.Line'> LINE(#C),\n",
       "  <class 'ezdxf.entities.line.Line'> LINE(#D),\n",
       "  <class 'ezdxf.entities.line.Line'> LINE(#E),\n",
       "  <class 'ezdxf.entities.line.Line'> LINE(#F),\n",
       "  <class 'ezdxf.entities.line.Line'> LINE(#10),\n",
       "  <class 'ezdxf.entities.line.Line'> LINE(#11),\n",
       "  <class 'ezdxf.entities.line.Line'> LINE(#12),\n",
       "  <class 'ezdxf.entities.line.Line'> LINE(#13),\n",
       "  <class 'ezdxf.entities.line.Line'> LINE(#14),\n",
       "  <class 'ezdxf.entities.line.Line'> LINE(#15),\n",
       "  <class 'ezdxf.entities.line.Line'> LINE(#16),\n",
       "  <class 'ezdxf.entities.line.Line'> LINE(#17),\n",
       "  <class 'ezdxf.entities.line.Line'> LINE(#18)]}"
      ]
     },
     "execution_count": 8,
     "metadata": {},
     "output_type": "execute_result"
    }
   ],
   "source": [
    "all_lines_by_color: List[entities.DXFEntity] = msp.query(\"LINE\").groupby(\"color\")\n",
    "all_lines_by_color"
   ]
  },
  {
   "cell_type": "markdown",
   "metadata": {},
   "source": [
    "## Entity Attributes\n",
    "\n",
    "https://ezdxf.mozman.at/docs/tutorials/common_graphical_attributes.html\n",
    "\n",
    "Following attributes are avaliable to all graphical entities where are under `dxf` namespance in each entity:\n",
    "- `color`\n",
    "- `linetype`\n",
    "- `lineweight`\n",
    "- `true_color`\n",
    "- `transparency`\n",
    "- `ltscale`\n",
    "- `invisible`"
   ]
  },
  {
   "cell_type": "code",
   "execution_count": 17,
   "metadata": {},
   "outputs": [
    {
     "data": {
      "text/plain": [
       "0"
      ]
     },
     "execution_count": 17,
     "metadata": {},
     "output_type": "execute_result"
    }
   ],
   "source": [
    "lines[0].dxf.color\n",
    "lines[0].dxf.layer\n",
    "lines[0].dxf.hasattr(\"true_color\")\n",
    "lines[0].dxf.get(\"true_color\", 0)\n"
   ]
  },
  {
   "cell_type": "markdown",
   "metadata": {},
   "source": [
    "## Layers\n",
    "\n",
    "Group objects in a layer. https://ezdxf.mozman.at/docs/concepts/layers.html#layer-concept.\n"
   ]
  },
  {
   "cell_type": "markdown",
   "metadata": {},
   "source": [
    "## Polylines\n",
    "\n",
    "There are two ways:\n",
    "1. Old-style `Polyline` entity, which is a group of entities.\n",
    "2. `LWPolyline` lightweight polyline as a single graphic entity (Supported by DXF R13/14). "
   ]
  },
  {
   "cell_type": "markdown",
   "metadata": {},
   "source": [
    "### LWPolyline\n",
    "https://ezdxf.mozman.at/docs/tutorials/lwpolyline.html\n",
    "\n",
    "LWPOLYLINE is a planar element, i.e. 2D coordinates are located in the OCS, where the z-axis is stored in `LWPolyline.dxf.elevation` attribute.\n",
    "\n",
    "`vertices_in_wcs` returns the polyline vertices as WCS coordinates."
   ]
  },
  {
   "cell_type": "code",
   "execution_count": 36,
   "metadata": {},
   "outputs": [],
   "source": [
    "doc = ezdxf.new(\"R2000\")\n",
    "msp = doc.modelspace()\n",
    "\n",
    "points = [(0, 0), (3, 0), (6, 3), (6, 6)]\n",
    "msp.add_lwpolyline(points)\n",
    "\n",
    "doc.saveas(\"dxf-data/tutorial.dxf\")\n"
   ]
  }
 ],
 "metadata": {
  "kernelspec": {
   "display_name": "basex",
   "language": "python",
   "name": "python3"
  },
  "language_info": {
   "codemirror_mode": {
    "name": "ipython",
    "version": 3
   },
   "file_extension": ".py",
   "mimetype": "text/x-python",
   "name": "python",
   "nbconvert_exporter": "python",
   "pygments_lexer": "ipython3",
   "version": "3.11.4"
  }
 },
 "nbformat": 4,
 "nbformat_minor": 2
}
