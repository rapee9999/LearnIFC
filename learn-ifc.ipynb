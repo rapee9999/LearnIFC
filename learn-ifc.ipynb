{
 "cells": [
  {
   "cell_type": "markdown",
   "id": "d7fa99fe-0a3b-4d08-aef4-b867cd05b53e",
   "metadata": {},
   "source": [
    "# Learn IFC\n",
    "IFC is a standard format to store 3D CAD data. In Python, *ifcopenshell* is a package to access IFC data.\n",
    "\n",
    "This notebook demonstrates how to use the package to fetch CAD data, shows use cases, and proves assumptions/concepts.\n",
    "\n",
    "\n",
    "**Outline**\n",
    "- [Load IFC File](#learn-ifc)\n",
    "- [IFC Data Structure](#ifc-structure)\n",
    "    - [Entity Relations](#ifcrelaggregates)\n",
    "    - [Object Placement](#ifclocalplacement)\n",
    "    - [Axis and Placement](#ifcaxis2placement3d)\n",
    "    - [Shape Definition](#ifcproductdefinitionshape)\n",
    "    - [Geometry Representation](#ifcshaperepresentation)\n",
    "    - [Boundary Representation](#ifcfacetedbrep)\n",
    "    - [Face Bounding](#ifcface)\n",
    "    - [Bounds on Face](#ifcfaceouterbound)\n",
    "    - [Cartesian Point](#ifccartesianpoint)\n",
    "- [Use Cases](#use-cases)\n",
    "    - [Geometry Transformation](#study-geometry-transformation)\n",
    "    - [Smallest Bounding Box](#prove-smallest-bounding-box)\n",
    "- [PoC](#prove-of-assumptionsconcepts)\n",
    "    - [Common Axises?](#how-many-axises-are-common-in-one-assembly)\n"
   ]
  },
  {
   "cell_type": "code",
   "execution_count": null,
   "id": "de437951-bdb6-496b-8904-feb44aa39a48",
   "metadata": {},
   "outputs": [],
   "source": [
    "import numpy as np\n",
    "import ifcopenshell\n",
    "import pandas as pd"
   ]
  },
  {
   "cell_type": "markdown",
   "id": "075ae4f5-db8a-4488-a70c-97de1431fa37",
   "metadata": {
    "tags": []
   },
   "source": [
    "## Load IFC file"
   ]
  },
  {
   "cell_type": "code",
   "execution_count": null,
   "id": "46f226df-add9-40f8-8f82-9e54a1f32912",
   "metadata": {},
   "outputs": [],
   "source": [
    "filePath = \"ifc-data/sample.ifc\"\n",
    "ifcModel = ifcopenshell.open(filePath)\n",
    "ifcModel"
   ]
  },
  {
   "cell_type": "markdown",
   "id": "8a0591d3-7ba0-4680-84d9-89288727c8ef",
   "metadata": {},
   "source": [
    "## IFC Structure\n",
    "Each text line in IFC is an entity\n",
    "\n",
    "There are many types of entity e.g. IfcElementAssembly, IfcRelAggregates and IfcBeam etc.\n",
    "\n",
    "Each type of entity has different attributes.\n",
    "\n",
    "Each entity relates to other entities where you can see reference entities IDs in attributes."
   ]
  },
  {
   "cell_type": "code",
   "execution_count": null,
   "id": "58ae1fa2-ea73-4c2b-a8fe-4808414f594a",
   "metadata": {},
   "outputs": [],
   "source": [
    "# generic attributes\n",
    "entityID = 139817\n",
    "elementAssembly = ifcModel.by_id(entityID)\n",
    "assert elementAssembly.is_entity(), f\"{entityID} is not an entity\"\n",
    "assert elementAssembly.is_a() == \"IfcElementAssembly\", f\"{entityID} is not an element assembly\"\n",
    "print(elementAssembly.id(), elementAssembly.Name, elementAssembly.Tag)\n",
    "print(elementAssembly.get_info())\n",
    "print(elementAssembly.to_string())"
   ]
  },
  {
   "cell_type": "markdown",
   "id": "2942b3f0-d43f-4757-a127-4176ef68f7a8",
   "metadata": {},
   "source": [
    "### IfcRelAggregates\n",
    "<a>https://standards.buildingsmart.org/IFC/RELEASE/IFC2x3/TC1/HTML/ifckernel/lexical/ifcrelaggregates.htm</a>\n",
    "\n",
    "Aggregation relationship (mapping) entity shows related and relating entities.\n",
    "\n",
    "Can interprete that a related entity has many relating entities.\n",
    "\n",
    "*Relating Entity* ---|---(RelatingObject)---> **RelAggresgates Entity** ---(RelatedObjects)---> *Related Entity*<br>\n",
    "*Relating Entity* ---|<br>\n",
    "*Relating Entity* ---|<br>\n",
    "\n",
    "For example,\n",
    "\n",
    "Part ---|--- Assembly<br>\n",
    "Part ---|<br>\n",
    "Part ---|<br>\n"
   ]
  },
  {
   "cell_type": "code",
   "execution_count": null,
   "id": "dbb1a158-94bb-4b4a-8b40-c481a3a17df7",
   "metadata": {
    "tags": []
   },
   "outputs": [],
   "source": [
    "relations = elementAssembly.IsDecomposedBy[0]\n",
    "print(relations)\n",
    "print(relations.RelatingObject) # refer to elementAssembly entity\n",
    "parts = relations.RelatedObjects # referred by many entities\n",
    "print(parts[0])"
   ]
  },
  {
   "cell_type": "markdown",
   "id": "a3b68167-b4bb-4033-b045-d2ea80787b29",
   "metadata": {},
   "source": [
    "### IfcLocalPlacement\n",
    "<a>https://standards.buildingsmart.org/IFC/RELEASE/IFC2x3/TC1/HTML/ifcgeometricconstraintresource/lexical/ifclocalplacement.htm</a>\n",
    "\n",
    "A mapping entity shows details about where this element is in 3D\n",
    "\n",
    "&emsp;&emsp;&emsp;&emsp;&emsp;&emsp;&emsp;&emsp;&emsp;&emsp;&emsp;&emsp;&emsp;&emsp;&emsp;&emsp;&emsp;&emsp;&emsp;&emsp;&emsp;&emsp;&emsp;&emsp;&emsp;&emsp;&emsp;&emsp;<i>Object</i>&emsp;<i>Object</i>&emsp;<i>Object</i><br>\n",
    "&emsp;&emsp;&emsp;&emsp;&emsp;&emsp;&emsp;&emsp;&emsp;&emsp;&emsp;&emsp;&emsp;&emsp;&emsp;&emsp;&emsp;&emsp;&emsp;&emsp;&emsp;&emsp;&emsp;&emsp;&emsp;&emsp;&emsp;&emsp;&emsp;|&emsp;&emsp;&emsp;&emsp;|&emsp;&emsp;&emsp;|<br>\n",
    "&emsp;&emsp;&emsp;&emsp;&emsp;&emsp;&emsp;&emsp;&emsp;&emsp;&emsp;&emsp;&emsp;&emsp;&emsp;&emsp;&emsp;&emsp;&emsp;&emsp;&emsp;&emsp;&emsp;&emsp;&emsp;&emsp;&emsp;&emsp;&emsp;-------------------<br>\n",
    "&emsp;&emsp;&emsp;&emsp;&emsp;&emsp;&emsp;&emsp;&emsp;&emsp;&emsp;&emsp;&emsp;&emsp;&emsp;&emsp;&emsp;&emsp;&emsp;&emsp;&emsp;&emsp;&emsp;&emsp;&emsp;&emsp;&emsp;&emsp;&emsp;&emsp;&emsp;&emsp;&emsp;&emsp;|<br>\n",
    "&emsp;&emsp;&emsp;&emsp;&emsp;&emsp;&emsp;&emsp;&emsp;&emsp;&emsp;&emsp;&emsp;&emsp;&emsp;&emsp;&emsp;&emsp;&emsp;&emsp;&emsp;&emsp;&emsp;&emsp;&emsp;&emsp;&emsp;&emsp;Objects on this placement (PlacesObject)<br>\n",
    "&emsp;&emsp;&emsp;&emsp;&emsp;&emsp;&emsp;&emsp;&emsp;&emsp;&emsp;&emsp;&emsp;&emsp;&emsp;&emsp;&emsp;&emsp;&emsp;&emsp;&emsp;&emsp;&emsp;&emsp;&emsp;&emsp;&emsp;&emsp;&emsp;&emsp;&emsp;&emsp;&emsp;&emsp;|<br>\n",
    "<i>IfcLocalPlacement</i> ---|---Referred by (ReferencedByPlacements)---> <b>IfcLocalPlacement</b> ---Refer to (PlacementRelTo)---> <i>IfcLocalPlacement</i><br>\n",
    "<i>IfcLocalPlacement</i> ---|&emsp;&emsp;&emsp;&emsp;&emsp;&emsp;&emsp;&emsp;&emsp;&emsp;&emsp;&emsp;&emsp;&emsp;&emsp;&emsp;&emsp;&emsp;&emsp;&emsp;&emsp;&emsp;&emsp;&emsp; |<br>\n",
    "<i>IfcLocalPlacement</i> ---|&emsp;&emsp;&emsp;&emsp;&emsp;&emsp;&emsp;&emsp;&emsp;&emsp;&emsp;&emsp;&emsp;&emsp;&emsp;&emsp;&emsp;&emsp;&emsp;&emsp;&emsp;(RelativePlacement)<br>\n",
    "&emsp;&emsp;&emsp;&emsp;&emsp;&emsp;&emsp;&emsp;&emsp;&emsp;&emsp;&emsp;&emsp;&emsp;&emsp;&emsp;&emsp;&emsp;&emsp;&emsp;&emsp;&emsp;&emsp;&emsp;&emsp;&emsp;&emsp;&emsp;&emsp;&emsp;&emsp;&emsp;&emsp;&emsp;|<br>\n",
    "&emsp;&emsp;&emsp;&emsp;&emsp;&emsp;&emsp;&emsp;&emsp;&emsp;&emsp;&emsp;&emsp;&emsp;&emsp;&emsp;&emsp;&emsp;&emsp;&emsp;&emsp;&emsp;&emsp;&emsp;&emsp;&emsp;&emsp;&emsp;&emsp;&emsp;<i>IfcAxis2Placement3D</i><br>"
   ]
  },
  {
   "cell_type": "code",
   "execution_count": null,
   "id": "544a1df3-ca49-41b6-9cea-d880d16ffa7e",
   "metadata": {},
   "outputs": [],
   "source": [
    "placement = elementAssembly.ObjectPlacement\n",
    "print(placement)\n",
    "print(placement.PlacesObject) # objects/entities (elementAssembly) that are on this placement \n",
    "print(placement.PlacementRelTo) # Reference to Object that provides the relative placement by its local coordinate system\n",
    "print(placement.ReferencedByPlacements) # referred by LocalPlacement entities"
   ]
  },
  {
   "cell_type": "markdown",
   "id": "173a33d9-88f0-4903-8700-54de788053f5",
   "metadata": {},
   "source": [
    "### IfcAxis2Placement3D\n",
    "<a>https://standards.buildingsmart.org/IFC/RELEASE/IFC2x/FINAL/HTML/ifcgeometryresource/lexical/ifcaxis2placement3d.html</a>\n",
    "\n",
    "Info of local axises againt global axises\n",
    "\n",
    "<img src=\"https://standards.buildingsmart.org/IFC/RELEASE/IFC2x/FINAL/HTML/ifcgeometryresource/lexical/figures/IfcAxis2Placement3D-Layout1.gif\" style=\"background-color: white\">"
   ]
  },
  {
   "cell_type": "code",
   "execution_count": null,
   "id": "1d314277-34ad-4a8d-a205-7d98dc799116",
   "metadata": {},
   "outputs": [],
   "source": [
    "print(placement.RelativePlacement) # Geometric placement that defines the transformation from the related coordinate system into the relating\n",
    "print(placement.RelativePlacement.Axis)\n",
    "print(placement.RelativePlacement.Location)\n",
    "print(placement.RelativePlacement.RefDirection)"
   ]
  },
  {
   "cell_type": "markdown",
   "id": "fdf0a86c-36d9-48b4-ad14-e67faa98b164",
   "metadata": {},
   "source": [
    "### IfcProductDefinitionShape\n",
    "<a>https://standards.buildingsmart.org/IFC/RELEASE/IFC2x3/TC1/HTML/ifcrepresentationresource/lexical/ifcproductdefinitionshape.htm</a>\n",
    "\n",
    "Product/part/object shape definitions"
   ]
  },
  {
   "cell_type": "code",
   "execution_count": null,
   "id": "26a7fe78-6a2d-495a-b204-cc76c678417c",
   "metadata": {},
   "outputs": [],
   "source": [
    "partDef = parts[0].Representation\n",
    "print(partDef)\n",
    "print(partDef.Representations) # IfcShapeRepresentation"
   ]
  },
  {
   "cell_type": "markdown",
   "id": "0ec8bfe2-8391-45fa-981d-9f3310810b79",
   "metadata": {},
   "source": [
    "### IfcShapeRepresentation\n",
    "<a>https://standards.buildingsmart.org/IFC/RELEASE/IFC2x3/TC1/HTML/ifcrepresentationresource/lexical/ifcshaperepresentation.htm</a>\n",
    "\n",
    "Geometric representation of a product"
   ]
  },
  {
   "cell_type": "code",
   "execution_count": null,
   "id": "c671d8b3-99a5-4fee-a255-533029b4a939",
   "metadata": {},
   "outputs": [],
   "source": [
    "partGeom = partDef.Representations[0]\n",
    "print(partGeom)\n",
    "print(partGeom.ContextOfItems)\n",
    "print(partGeom.RepresentationType)\n",
    "print(partGeom.RepresentationIdentifier)\n",
    "print(partGeom.OfProductRepresentation)\n",
    "# print(partGeom.LayerAssignments)\n",
    "print(partGeom.Items) # IfcFacetedBrep"
   ]
  },
  {
   "cell_type": "markdown",
   "id": "079cfebc-3a42-42b5-93d4-152e7c5b1c4d",
   "metadata": {},
   "source": [
    "### IfcFacetedBrep\n",
    "<a>https://standards.buildingsmart.org/IFC/RELEASE/IFC2x3/TC1/HTML/ifcgeometricmodelresource/lexical/ifcfacetedbrep.htm</a>\n",
    "\n",
    "Boundary representation model in which all faces are planar and all edges are straight lines"
   ]
  },
  {
   "cell_type": "code",
   "execution_count": null,
   "id": "69020fe1-3d98-4a0c-b1c2-70937758a928",
   "metadata": {},
   "outputs": [],
   "source": [
    "facet = partGeom.Items[0]\n",
    "print(facet)\n",
    "print(facet.Outer) # IfcFace"
   ]
  },
  {
   "cell_type": "markdown",
   "id": "9f62237b-6fdc-40d5-8f9e-074479daa72f",
   "metadata": {},
   "source": [
    "### IfcFace\n",
    "<a>https://standards.buildingsmart.org/IFC/RELEASE/IFC2x3/TC1/HTML/ifctopologyresource/lexical/ifcface.htm</a>\n",
    "\n",
    "Contain face bounds"
   ]
  },
  {
   "cell_type": "code",
   "execution_count": null,
   "id": "7c29eaba-d39c-4b46-b8bf-34719e2f5654",
   "metadata": {},
   "outputs": [],
   "source": [
    "faces = facet.Outer[0]\n",
    "print(faces)\n",
    "print(faces[0].Bounds)"
   ]
  },
  {
   "cell_type": "markdown",
   "id": "83c0fdf3-7633-4d30-bb15-21a545435ced",
   "metadata": {},
   "source": [
    "### IfcFaceOuterBound\n",
    "<a>https://standards.buildingsmart.org/IFC/RELEASE/IFC2x3/TC1/HTML/ifctopologyresource/lexical/ifcfaceouterbound.htm</a>\n",
    "\n",
    "Define an outer boundary on the face"
   ]
  },
  {
   "cell_type": "code",
   "execution_count": null,
   "id": "8fa8aa1e-7021-48ec-801b-fa7cb7b152da",
   "metadata": {},
   "outputs": [],
   "source": [
    "bound = faces[0].Bounds[0]\n",
    "print(bound)\n",
    "print(bound.Bound) # IfcCartesianPoint\n",
    "print(bound.Orientation)"
   ]
  },
  {
   "cell_type": "markdown",
   "id": "5ebecd17-af97-4176-970b-41048bbd4fe1",
   "metadata": {},
   "source": [
    "### IfcCartesianPoint\n",
    "<a>https://standards.buildingsmart.org/IFC/RELEASE/IFC2x3/TC1/HTML/ifcgeometryresource/lexical/ifccartesianpoint.htm</a>\n",
    "\n",
    "Three dimensional rectangular Cartesian coordinate system"
   ]
  },
  {
   "cell_type": "code",
   "execution_count": null,
   "id": "5361c826-8dec-4a44-8168-bf91efb416d4",
   "metadata": {},
   "outputs": [],
   "source": [
    "points = bound.Bound[0]\n",
    "print(points) # list of points\n",
    "print(points[0].Coordinates) # point coordinates \n",
    "# Coordinates[1] is the X coordinate, Coordinates[2] is the Y coordinate, and Coordinates[3] is the Z coordinate"
   ]
  },
  {
   "cell_type": "markdown",
   "id": "19d52fb6",
   "metadata": {},
   "source": [
    "## Use Cases"
   ]
  },
  {
   "cell_type": "markdown",
   "id": "dc9c6b32-1ff2-4d01-988b-294128a673de",
   "metadata": {},
   "source": [
    "### Study Geometry Transformation"
   ]
  },
  {
   "cell_type": "code",
   "execution_count": null,
   "id": "6d6e2d82-db14-4dfd-85d6-66a4bdef9594",
   "metadata": {},
   "outputs": [],
   "source": [
    "print(parts[0])\n",
    "print(parts[0].ObjectPlacement)\n",
    "print(parts[0].ObjectPlacement.RelativePlacement)"
   ]
  },
  {
   "cell_type": "code",
   "execution_count": null,
   "id": "d2db0b10-59fb-429a-8dd6-7730065b8755",
   "metadata": {},
   "outputs": [],
   "source": [
    "locOnGlob = parts[0].ObjectPlacement.RelativePlacement.Location[0]\n",
    "locOnGlob = np.array(locOnGlob)\n",
    "print(\"Local point on global\", locOnGlob)\n",
    "\n",
    "translateMat = np.identity(4)\n",
    "translateMat[:3, 3] = locOnGlob\n",
    "print(\"Translation matrix\\n\", translateMat)\n",
    "\n",
    "ZDirOnGlob = parts[0].ObjectPlacement.RelativePlacement.Axis[0]\n",
    "ZDirOnGlob = np.array(ZDirOnGlob)\n",
    "print(\"Local Z axis unit vector on global\", ZDirOnGlob)\n",
    "\n",
    "XDirOnGlob = parts[0].ObjectPlacement.RelativePlacement.RefDirection[0]\n",
    "XDirOnGlob = np.array(XDirOnGlob)\n",
    "print(\"Local X axis unit vector on global\", XDirOnGlob)\n",
    "\n",
    "YDirOnGlob = np.cross(ZDirOnGlob, XDirOnGlob)\n",
    "print(\"Local Y axis unit vector on global\", YDirOnGlob)\n",
    "\n",
    "AllDirOnGlob = np.array([ZDirOnGlob, XDirOnGlob, YDirOnGlob])\n",
    "AllDirOnGlob = AllDirOnGlob.T\n",
    "print(\"All local axises on global\\n\", AllDirOnGlob)\n",
    "\n",
    "rotateMat = np.identity(4)\n",
    "rotateMat[:3, :3] = AllDirOnGlob\n",
    "print(\"Rotation matrix\\n\", rotateMat)"
   ]
  },
  {
   "cell_type": "code",
   "execution_count": null,
   "id": "70f1678e-e700-4287-8b8c-69ba78195750",
   "metadata": {},
   "outputs": [],
   "source": [
    "localPoint = np.array([[10000], [1000], [10000], [1]])\n",
    "print(\"Dummy local point\\n\", localPoint)\n",
    "print(\"Vector magnitude\", np.sqrt(np.sum(np.power(localPoint, 2))))\n",
    "print(\"Translated\\n\", translateMat @ localPoint)\n",
    "print(\"Rotated\\n\", rotateMat @ localPoint)\n",
    "print(\"Vector magnitude\", np.sqrt(np.sum(np.power(rotateMat @ localPoint, 2))))"
   ]
  },
  {
   "cell_type": "markdown",
   "id": "39784f3d-400f-491d-a484-4a8b56aca80f",
   "metadata": {},
   "source": [
    "### Prove Smallest Bounding Box"
   ]
  },
  {
   "cell_type": "code",
   "execution_count": null,
   "id": "a9347d44-0c06-43a4-8f1f-049bdc2602ca",
   "metadata": {},
   "outputs": [],
   "source": [
    "elemID = 50852\n",
    "assembly = ifcModel.by_id(elemID)\n",
    "parts = assembly.IsDecomposedBy[0].RelatedObjects\n",
    "print(\"ASSEMBLY\", assembly)\n",
    "\n",
    "minPartName = None\n",
    "minBBox = None\n",
    "minDim = None\n",
    "minVol = float(\"inf\")\n",
    "\n",
    "for refPart in parts:\n",
    "    # print(\"REF\", refPart)\n",
    "    \n",
    "    loc = refPart.ObjectPlacement.RelativePlacement.Location[0]\n",
    "    ax = refPart.ObjectPlacement.RelativePlacement.Axis[0]\n",
    "    refDir = refPart.ObjectPlacement.RelativePlacement.RefDirection[0]\n",
    "    \n",
    "    # Translation matrix\n",
    "    translateMat = np.identity(4)\n",
    "    translateMat[:3, 3] = loc\n",
    "    \n",
    "    # Rotation matrix. Axis and RefDirection are normalized ???\n",
    "    rotateMat = np.identity(4)\n",
    "    # rotateMat[:3, :3] = np.array([ax, refDir, np.cross(ax, refDir)]).T # ChatGPT incorrect ???\n",
    "    rotateMat[:3, :3] = np.array([ax, refDir, np.cross(ax, refDir)]).T\n",
    "    \n",
    "    # Combine into onee transformation matrix\n",
    "    refTransformatMatrix = translateMat @ rotateMat\n",
    "    # print(\"REF TRANSFORMATION\\n\", refTransformatMatrix)\n",
    "\n",
    "    minX = float(\"inf\")\n",
    "    minY = float(\"inf\")\n",
    "    minZ = float(\"inf\")\n",
    "    maxX = float(\"-inf\")\n",
    "    maxY = float(\"-inf\")\n",
    "    maxZ = float(\"-inf\")\n",
    "\n",
    "    for part in parts:\n",
    "        # print(\"PART\", part, end=\" \")    \n",
    "        try:\n",
    "            faces = part.Representation.Representations[0].Items[0].Outer[0]\n",
    "            # print(\"\")\n",
    "        except:\n",
    "            # print(\"NO FACE\")\n",
    "            continue\n",
    "\n",
    "        loc = part.ObjectPlacement.RelativePlacement.Location[0]\n",
    "        ax = part.ObjectPlacement.RelativePlacement.Axis[0]\n",
    "        refDir = part.ObjectPlacement.RelativePlacement.RefDirection[0]\n",
    "        # Translation matrix\n",
    "        translateMat = np.identity(4)\n",
    "        translateMat[:3, 3] = loc\n",
    "        \n",
    "        # Rotation matrix. Axis and RefDirection are normalized ???\n",
    "        rotateMat = np.identity(4)\n",
    "        # rotateMat[:3, :3] = np.array([ax, refDir, np.cross(ax, refDir)]).T # chatGPT incorrect ???\n",
    "        rotateMat[:3, :3] = np.array([refDir, np.cross(ax, refDir), ax]).T\n",
    "        \n",
    "        # Combine translation and rotation to form the transformation matrix\n",
    "        transformMat = translateMat @ rotateMat\n",
    "        # print(\"TRANSFORMATION\\n\", transformMat)\n",
    "        \n",
    "        transformMat = np.linalg.inv(refTransformatMatrix) @ transformMat\n",
    "        # print(\"TRANSFORMATION TO REF\\n\", transformMat)\n",
    "        \n",
    "        for face in faces:\n",
    "            # Get vertices from each face \n",
    "            bounding = face.Bounds[0].Bound[0]\n",
    "\n",
    "            # Loop over vertices\n",
    "            for point in bounding:\n",
    "                point = point[0]\n",
    "                point = np.array(point + (1,))\n",
    "\n",
    "                pointOnRef = transformMat @ point\n",
    "                \n",
    "                minX = min(minX, pointOnRef[0])\n",
    "                minY = min(minY, pointOnRef[1])\n",
    "                minZ = min(minZ, pointOnRef[2])\n",
    "                maxX = max(maxX, pointOnRef[0])\n",
    "                maxY = max(maxY, pointOnRef[1])\n",
    "                maxZ = max(maxZ, pointOnRef[2])\n",
    "                \n",
    "    # bouding box of whole assembly on reference frame\n",
    "    partName = str(refPart)\n",
    "    bbox = np.array([[minX, minY, minZ], [maxX, maxY, maxZ]])\n",
    "    dim = bbox[1] - bbox[0]\n",
    "    vol = dim[0] * dim[1] * dim[2]\n",
    "    # print(f\"REF: {partName}\\n   Dim: {dim}\\n   vol: {vol}\\n   bbox:\\n{bbox}\")\n",
    "    \n",
    "    # find min vol\n",
    "    if vol < minVol:\n",
    "        minPartName = partName\n",
    "        minBBox = bbox\n",
    "        minDim = dim\n",
    "        minVol = vol\n",
    "    \n",
    "print(f\"*** Min bbox:\\n   Ref to {minPartName}\\n   Dim: {minDim}\\n   vol: {minVol}\\n   bbox:\\n{minBBox}\")\n",
    "    "
   ]
  },
  {
   "cell_type": "markdown",
   "id": "1d3a70d7",
   "metadata": {},
   "source": [
    "## Prove of Assumptions/Concepts"
   ]
  },
  {
   "cell_type": "markdown",
   "id": "cc8ae72d-3250-4e8f-8e77-1993a635c296",
   "metadata": {},
   "source": [
    "### How many axises are common in one assembly?\n",
    "*= Each object has its own axises*"
   ]
  },
  {
   "cell_type": "code",
   "execution_count": null,
   "id": "8d6656cd-b9cc-4095-abcf-7871705505e8",
   "metadata": {},
   "outputs": [],
   "source": [
    "axisesDF = pd.DataFrame([obj.ObjectPlacement.RelativePlacement.id() for obj in elementAssembly.IsDecomposedBy[0].RelatedObjects], columns=['id'])\n",
    "axisesDF.iloc[list(axisesDF['id'].value_counts() > 1)]"
   ]
  },
  {
   "cell_type": "code",
   "execution_count": null,
   "id": "78e44015-62bb-486c-a598-85d5e69bbd70",
   "metadata": {},
   "outputs": [],
   "source": []
  }
 ],
 "metadata": {
  "kernelspec": {
   "display_name": "basex",
   "language": "python",
   "name": "python3"
  },
  "language_info": {
   "codemirror_mode": {
    "name": "ipython",
    "version": 3
   },
   "file_extension": ".py",
   "mimetype": "text/x-python",
   "name": "python",
   "nbconvert_exporter": "python",
   "pygments_lexer": "ipython3",
   "version": "3.10.10"
  }
 },
 "nbformat": 4,
 "nbformat_minor": 5
}
