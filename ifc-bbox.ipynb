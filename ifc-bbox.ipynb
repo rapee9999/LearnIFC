{
 "cells": [
  {
   "cell_type": "code",
   "execution_count": null,
   "id": "de437951-bdb6-496b-8904-feb44aa39a48",
   "metadata": {},
   "outputs": [],
   "source": [
    "import numpy as np\n",
    "import ifcopenshell\n",
    "import ifcbbox"
   ]
  },
  {
   "cell_type": "code",
   "execution_count": null,
   "id": "74eae339-8b5d-41c0-aaf0-c8d434e918c4",
   "metadata": {
    "tags": [
     "parameters"
    ]
   },
   "outputs": [],
   "source": [
    "filePath = \"ifc-data/sample.ifc\""
   ]
  },
  {
   "cell_type": "code",
   "execution_count": null,
   "id": "46f226df-add9-40f8-8f82-9e54a1f32912",
   "metadata": {},
   "outputs": [],
   "source": [
    "ifcModel = ifcopenshell.open(filePath)\n",
    "ifcModel"
   ]
  },
  {
   "cell_type": "code",
   "execution_count": null,
   "id": "2e9a1204-d8d9-4d5c-9334-4646dc2e67c0",
   "metadata": {},
   "outputs": [],
   "source": [
    "ifcbbox.findAssemblyBBox(ifcModel, 50852, False)"
   ]
  },
  {
   "cell_type": "code",
   "execution_count": null,
   "id": "cb0266dc-6e28-4abe-9e29-eac03522bcd5",
   "metadata": {},
   "outputs": [],
   "source": []
  }
 ],
 "metadata": {
  "kernelspec": {
   "display_name": "basex",
   "language": "python",
   "name": "basex"
  },
  "language_info": {
   "codemirror_mode": {
    "name": "ipython",
    "version": 3
   },
   "file_extension": ".py",
   "mimetype": "text/x-python",
   "name": "python",
   "nbconvert_exporter": "python",
   "pygments_lexer": "ipython3",
   "version": "3.10.10"
  }
 },
 "nbformat": 4,
 "nbformat_minor": 5
}
